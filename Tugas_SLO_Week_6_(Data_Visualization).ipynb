{
  "nbformat": 4,
  "nbformat_minor": 0,
  "metadata": {
    "colab": {
      "provenance": [],
      "authorship_tag": "ABX9TyNtuF5NG5hHtFhbIsjjtUQM",
      "include_colab_link": true
    },
    "kernelspec": {
      "name": "python3",
      "display_name": "Python 3"
    },
    "language_info": {
      "name": "python"
    }
  },
  "cells": [
    {
      "cell_type": "markdown",
      "metadata": {
        "id": "view-in-github",
        "colab_type": "text"
      },
      "source": [
        "<a href=\"https://colab.research.google.com/github/Fiyaaak/TUGAS-PEMBELAJARAN-SECARA-STATISTIK-DAN-OPTIMISASI/blob/main/Tugas_SLO_Week_6_(Data_Visualization).ipynb\" target=\"_parent\"><img src=\"https://colab.research.google.com/assets/colab-badge.svg\" alt=\"Open In Colab\"/></a>"
      ]
    },
    {
      "cell_type": "markdown",
      "source": [
        "# **TUGAS SLO WEEK 6 (Data Visualization)**\n",
        "\n",
        "Nama : Luthfia Azzahra Kusumawardhani\n",
        "\n",
        "NIM : 1101204102"
      ],
      "metadata": {
        "id": "8bonnMRllZrx"
      }
    },
    {
      "cell_type": "code",
      "execution_count": null,
      "metadata": {
        "id": "CDK7XWpDjIPO"
      },
      "outputs": [],
      "source": [
        "import pandas as pd"
      ]
    },
    {
      "cell_type": "code",
      "source": [
        "from google.colab import drive\n",
        "drive.mount('/content/drive')"
      ],
      "metadata": {
        "colab": {
          "base_uri": "https://localhost:8080/"
        },
        "id": "jOgLBnRgmjPo",
        "outputId": "81d1b034-b6e9-4a5c-c36b-0fb7d1d72d2b"
      },
      "execution_count": null,
      "outputs": [
        {
          "output_type": "stream",
          "name": "stdout",
          "text": [
            "Mounted at /content/drive\n"
          ]
        }
      ]
    },
    {
      "cell_type": "code",
      "source": [
        "# Membaca dataset dari file CSV\n",
        "df = pd.read_csv(\"/content/drive/MyDrive/Dataset Assignment SLO/mycsvfile.csv\")"
      ],
      "metadata": {
        "id": "Ha5H2JGSjKx7"
      },
      "execution_count": null,
      "outputs": []
    },
    {
      "cell_type": "markdown",
      "source": [
        "# Menampilkan informasi terkait Dataset"
      ],
      "metadata": {
        "id": "evCXVnbH7DO4"
      }
    },
    {
      "cell_type": "code",
      "source": [
        "# Menampilkan lima baris pertama dari dataset\n",
        "print(\"Menampilkan lima baris pertama dari dataset:\")\n",
        "print(df.head())\n",
        "\n",
        "# Menampilkan informasi mengenai dataset\n",
        "print(\"\\nInformasi mengenai dataset:\")\n",
        "print(df.info())\n",
        "\n",
        "# Menampilkan ringkasan statistik dari dataset\n",
        "print(\"\\nRingkasan statistik dari dataset:\")\n",
        "print(df.describe())"
      ],
      "metadata": {
        "colab": {
          "base_uri": "https://localhost:8080/"
        },
        "id": "WhbHuZMGjQ_r",
        "outputId": "4d983f9a-8775-4c1d-dfa1-0a1d25d33bf6"
      },
      "execution_count": null,
      "outputs": [
        {
          "output_type": "stream",
          "name": "stdout",
          "text": [
            "Menampilkan lima baris pertama dari dataset:\n",
            "   Unnamed: 0  Rank                 PLAYER               TEAM    P  GS  MIN  \\\n",
            "0           0     1  Dominic Calvert-Lewin            Everton  EVE   2    2   \n",
            "1           1     2          Heung-Min Son  Tottenham Hotspur  TOT   2    2   \n",
            "2           2     3          Wilfried Zaha     Crystal Palace  CRY   2    2   \n",
            "3           3     4    Mohamed Salah Ghaly          Liverpool  LIV   2    2   \n",
            "4           4     5    Alexandre Lacazette            Arsenal  ARS   2    2   \n",
            "\n",
            "     G  ASST  SHOTS  SOG  Unnamed: 10  \n",
            "0  160     4      0    6            5  \n",
            "1  180     4      0    5            5  \n",
            "2  180     3      0    5            3  \n",
            "3  180     3      0    6            4  \n",
            "4  164     2      0    3            2  \n",
            "\n",
            "Informasi mengenai dataset:\n",
            "<class 'pandas.core.frame.DataFrame'>\n",
            "RangeIndex: 383 entries, 0 to 382\n",
            "Data columns (total 12 columns):\n",
            " #   Column       Non-Null Count  Dtype \n",
            "---  ------       --------------  ----- \n",
            " 0   Unnamed: 0   383 non-null    int64 \n",
            " 1   Rank         383 non-null    int64 \n",
            " 2   PLAYER       383 non-null    object\n",
            " 3   TEAM         383 non-null    object\n",
            " 4   P            383 non-null    object\n",
            " 5   GS           383 non-null    int64 \n",
            " 6   MIN          383 non-null    int64 \n",
            " 7   G            383 non-null    int64 \n",
            " 8   ASST         383 non-null    int64 \n",
            " 9   SHOTS        383 non-null    int64 \n",
            " 10  SOG          383 non-null    int64 \n",
            " 11  Unnamed: 10  383 non-null    int64 \n",
            "dtypes: int64(9), object(3)\n",
            "memory usage: 36.0+ KB\n",
            "None\n",
            "\n",
            "Ringkasan statistik dari dataset:\n",
            "       Unnamed: 0       Rank          GS         MIN           G        ASST  \\\n",
            "count   383.00000  383.00000  383.000000  383.000000  383.000000  383.000000   \n",
            "mean    191.00000  192.00000    1.292428    1.033943   92.610966    0.172324   \n",
            "std     110.70682  110.70682    0.784750    0.878121   71.590038    0.538144   \n",
            "min       0.00000    1.00000    0.000000    0.000000    0.000000    0.000000   \n",
            "25%      95.50000   96.50000    1.000000    0.000000   12.500000    0.000000   \n",
            "50%     191.00000  192.00000    1.000000    1.000000   90.000000    0.000000   \n",
            "75%     286.50000  287.50000    2.000000    2.000000  180.000000    0.000000   \n",
            "max     382.00000  383.00000    2.000000    2.000000  180.000000    4.000000   \n",
            "\n",
            "            SHOTS         SOG  Unnamed: 10  \n",
            "count  383.000000  383.000000   383.000000  \n",
            "mean     0.109661    0.780679     0.396867  \n",
            "std      0.380803    1.389543     0.906169  \n",
            "min      0.000000    0.000000     0.000000  \n",
            "25%      0.000000    0.000000     0.000000  \n",
            "50%      0.000000    0.000000     0.000000  \n",
            "75%      0.000000    1.000000     0.000000  \n",
            "max      4.000000    8.000000     5.000000  \n"
          ]
        }
      ]
    },
    {
      "cell_type": "code",
      "source": [
        "print(df.columns)"
      ],
      "metadata": {
        "colab": {
          "base_uri": "https://localhost:8080/"
        },
        "id": "wmXMuVw8n-E1",
        "outputId": "3a7f77e8-53cd-4985-8376-4418b436908c"
      },
      "execution_count": null,
      "outputs": [
        {
          "output_type": "stream",
          "name": "stdout",
          "text": [
            "Index(['Unnamed: 0', 'Rank', 'PLAYER', 'TEAM', 'P', 'GS', 'MIN', 'G', 'ASST',\n",
            "       'SHOTS', 'SOG', 'Unnamed: 10'],\n",
            "      dtype='object')\n"
          ]
        }
      ]
    },
    {
      "cell_type": "markdown",
      "source": [
        "# 1. 10 Player terbanyak mencetak Gol"
      ],
      "metadata": {
        "id": "2idkBeeNqs5g"
      }
    },
    {
      "cell_type": "code",
      "source": [
        "# Menemukan 10 pemain terbanyak mencetak gol\n",
        "top_10_scorers = df.nlargest(10, 'G')\n",
        "print(df.columns)\n",
        "\n",
        "# Menampilkan hasil\n",
        "print(\"10 Player terbanyak mencetak gol:\")\n",
        "print(top_10_scorers[['PLAYER', 'G']])"
      ],
      "metadata": {
        "colab": {
          "base_uri": "https://localhost:8080/"
        },
        "id": "1C9vTdkgjZeM",
        "outputId": "fcafa006-d248-4f69-c577-9eabba9f5a27"
      },
      "execution_count": null,
      "outputs": [
        {
          "output_type": "stream",
          "name": "stdout",
          "text": [
            "Index(['Unnamed: 0', 'Rank', 'PLAYER', 'TEAM', 'P', 'GS', 'MIN', 'G', 'ASST',\n",
            "       'SHOTS', 'SOG', 'Unnamed: 10'],\n",
            "      dtype='object')\n",
            "10 Player terbanyak mencetak gol:\n",
            "                                    PLAYER    G\n",
            "1                            Heung-Min Son  180\n",
            "2                            Wilfried Zaha  180\n",
            "3                      Mohamed Salah Ghaly  180\n",
            "6                 Daniel William John Ings  180\n",
            "9   Hélder Wander Sousa de Azevedo e Costa  180\n",
            "10                              Sadio Mané  180\n",
            "11                             Jamie Vardy  180\n",
            "12                            Raúl Jiménez  180\n",
            "13                             Neal Maupay  180\n",
            "14               Pierre-Emerick Aubameyang  180\n"
          ]
        }
      ]
    },
    {
      "cell_type": "markdown",
      "source": [
        "# 2. 10 Player terlama durasi bermain"
      ],
      "metadata": {
        "id": "0_OGJ4atq4Mc"
      }
    },
    {
      "cell_type": "code",
      "source": [
        "# 10 Player terlama durasi bermain\n",
        "top_10_playing_time = df.nlargest(10, 'MIN')\n",
        "\n",
        "print(\"\\n10 Player terlama durasi bermain:\")\n",
        "print(top_10_playing_time[['PLAYER', 'MIN']])"
      ],
      "metadata": {
        "colab": {
          "base_uri": "https://localhost:8080/"
        },
        "id": "ZYy9y4fCjbKW",
        "outputId": "bad999eb-b0f6-461f-a23d-b275e37c2132"
      },
      "execution_count": null,
      "outputs": [
        {
          "output_type": "stream",
          "name": "stdout",
          "text": [
            "\n",
            "10 Player terlama durasi bermain:\n",
            "                                    PLAYER  MIN\n",
            "0                    Dominic Calvert-Lewin    2\n",
            "1                            Heung-Min Son    2\n",
            "2                            Wilfried Zaha    2\n",
            "3                      Mohamed Salah Ghaly    2\n",
            "4                      Alexandre Lacazette    2\n",
            "6                 Daniel William John Ings    2\n",
            "7                          Patrick Bamford    2\n",
            "8                            Mateusz Klich    2\n",
            "9   Hélder Wander Sousa de Azevedo e Costa    2\n",
            "10                              Sadio Mané    2\n"
          ]
        }
      ]
    },
    {
      "cell_type": "markdown",
      "source": [
        "# 3. 10 Player terbanyak Assist"
      ],
      "metadata": {
        "id": "QPyrq3Kxq9rV"
      }
    },
    {
      "cell_type": "code",
      "source": [
        "# 10 Player terbanyak assist\n",
        "top_10_assist = df.nlargest(10, 'ASST')\n",
        "\n",
        "print(\"\\n4 Player pencetak gol terbanyak dari kesebelasan Manchester City:\")\n",
        "print(top_10_assist[['PLAYER', 'ASST']])"
      ],
      "metadata": {
        "colab": {
          "base_uri": "https://localhost:8080/"
        },
        "id": "UHsPa2HVjize",
        "outputId": "a0a5c5ac-2603-4461-de4d-0553bd63d069"
      },
      "execution_count": null,
      "outputs": [
        {
          "output_type": "stream",
          "name": "stdout",
          "text": [
            "\n",
            "4 Player pencetak gol terbanyak dari kesebelasan Manchester City:\n",
            "                                   PLAYER  ASST\n",
            "0                   Dominic Calvert-Lewin     4\n",
            "1                           Heung-Min Son     4\n",
            "2                           Wilfried Zaha     3\n",
            "3                     Mohamed Salah Ghaly     3\n",
            "4                     Alexandre Lacazette     2\n",
            "5                     Aleksandar Mitrović     2\n",
            "6                Daniel William John Ings     2\n",
            "7                         Patrick Bamford     2\n",
            "8                           Mateusz Klich     2\n",
            "9  Hélder Wander Sousa de Azevedo e Costa     2\n"
          ]
        }
      ]
    },
    {
      "cell_type": "markdown",
      "source": [
        "# 4. 4 Player pencetak gol terbanyak dari kesebelasan Manchester City"
      ],
      "metadata": {
        "id": "ODZHCjp9rFcO"
      }
    },
    {
      "cell_type": "code",
      "source": [
        "#Menentukan 4 Player pencetak gol terbanyak dari kesebelasan Manchester City\n",
        "\n",
        "# Filtering pemain dari kesebelasan Manchester City\n",
        "man_city_players = df[df['TEAM'] == 'Manchester City']\n",
        "\n",
        "# Menemukan 4 pemain dengan jumlah gol terbanyak dari Manchester City\n",
        "top_scorers_man_city = man_city_players.nlargest(4, 'G')\n",
        "\n",
        "# Menampilkan hasil\n",
        "print(\"4 Player pencetak gol terbanyak dari kesebelasan Manchester City:\")\n",
        "print(top_scorers_man_city[['PLAYER', 'G']])"
      ],
      "metadata": {
        "colab": {
          "base_uri": "https://localhost:8080/"
        },
        "id": "MC68E3rqpK3g",
        "outputId": "07f5d876-7232-4d41-93f6-f1801f6e0652"
      },
      "execution_count": null,
      "outputs": [
        {
          "output_type": "stream",
          "name": "stdout",
          "text": [
            "4 Player pencetak gol terbanyak dari kesebelasan Manchester City:\n",
            "                         PLAYER   G\n",
            "43              Kevin De Bruyne  90\n",
            "44                   Phil Foden  90\n",
            "45    Gabriel Fernando de Jesus  90\n",
            "368  Rodrigo Hernández Cascante  90\n"
          ]
        }
      ]
    },
    {
      "cell_type": "markdown",
      "source": [
        "# 5. Dari kesebelasan mana pencetak gol terbanyak?"
      ],
      "metadata": {
        "id": "ivkGl6j1rQFr"
      }
    },
    {
      "cell_type": "code",
      "source": [
        "#Menentukan dari kesebelasan mana pencetak gol terbanyak\n",
        "\n",
        "# Mengelompokkan data berdasarkan kesebelasan dan menjumlahkan jumlah gol\n",
        "goals_by_team = df.groupby('TEAM')['G'].sum()\n",
        "\n",
        "# Mendapatkan kesebelasan dengan jumlah gol terbanyak\n",
        "most_goals_team = goals_by_team.idxmax()\n",
        "\n",
        "# Menampilkan hasil\n",
        "print(\"Dari kesebelasan mana pencetak gol terbanyak:\")\n",
        "print(most_goals_team)"
      ],
      "metadata": {
        "colab": {
          "base_uri": "https://localhost:8080/"
        },
        "id": "LJW0FXTXjuWo",
        "outputId": "38a0beb3-7cc7-4ce9-dff1-34cac5607147"
      },
      "execution_count": null,
      "outputs": [
        {
          "output_type": "stream",
          "name": "stdout",
          "text": [
            "Dari kesebelasan mana pencetak gol terbanyak:\n",
            "Arsenal\n"
          ]
        }
      ]
    },
    {
      "cell_type": "markdown",
      "source": [
        "# 6. Berapa Jumlah kartu kuning dan merah yang diterima pembuat Assist terbanyak?"
      ],
      "metadata": {
        "id": "i2uUhKPerU_A"
      }
    },
    {
      "cell_type": "code",
      "source": [
        "# Jumlah kartu kuning dan merah yang diterima pembuat assist terbanyak\n",
        "\n",
        "# Menemukan pembuat assist terbanyak\n",
        "most_assist_player = df.nlargest(1, 'ASST')\n",
        "\n",
        "# Mengambil nama pemain pembuat assist terbanyak\n",
        "player_with_most_assist = most_assist_player['PLAYER'].iloc[0]\n",
        "\n",
        "# Mengambil jumlah kartu kuning dan merah untuk pemain pembuat assist terbanyak\n",
        "yellow_cards = most_assist_player['SHOTS'].iloc[0]  # Misalkan kolom SHOTS menyimpan kartu kuning\n",
        "red_cards = most_assist_player['SOG'].iloc[0]  # Misalkan kolom SOG menyimpan kartu merah\n",
        "\n",
        "# Menampilkan hasil\n",
        "print(\"Jumlah kartu kuning yang diterima oleh\", player_with_most_assist, \":\", yellow_cards)\n",
        "print(\"Jumlah kartu merah yang diterima oleh\", player_with_most_assist, \":\", red_cards)"
      ],
      "metadata": {
        "colab": {
          "base_uri": "https://localhost:8080/"
        },
        "id": "kJNTFrHgj70S",
        "outputId": "c2a5e82d-f9b6-4027-b3ea-84722ed9a68c"
      },
      "execution_count": null,
      "outputs": [
        {
          "output_type": "stream",
          "name": "stdout",
          "text": [
            "Jumlah kartu kuning yang diterima oleh Dominic Calvert-Lewin : 0\n",
            "Jumlah kartu merah yang diterima oleh Dominic Calvert-Lewin : 6\n"
          ]
        }
      ]
    },
    {
      "cell_type": "markdown",
      "source": [
        "# 7. Siapa yang jumlah Assist dan golnya paling banyak dan dari kesebelasan mana?"
      ],
      "metadata": {
        "id": "z6doOFybrbCH"
      }
    },
    {
      "cell_type": "code",
      "source": [
        "# Pemain dengan jumlah assist dan gol paling banyak dan dari kesebelasan mana\n",
        "\n",
        "# Menemukan pemain dengan jumlah assist dan gol terbanyak\n",
        "most_goals_and_assists = df.nlargest(1, ['ASST', 'G'])\n",
        "\n",
        "# Mendapatkan nama pemain dan kesebelasan\n",
        "player_with_most = most_goals_and_assists['PLAYER'].iloc[0]\n",
        "team_of_player_with_most = most_goals_and_assists['TEAM'].iloc[0]\n",
        "goals_of_player_with_most = most_goals_and_assists['G'].iloc[0]\n",
        "assists_of_player_with_most = most_goals_and_assists['ASST'].iloc[0]\n",
        "\n",
        "# Menampilkan hasil\n",
        "print(\"Pemain dengan jumlah assist dan gol paling banyak dan dari kesebelasan mana:\")\n",
        "print(\"Nama Pemain:\", player_with_most)\n",
        "print(\"Kesebelasan:\", team_of_player_with_most)\n",
        "print(\"Jumlah Gol:\", goals_of_player_with_most)\n",
        "print(\"Jumlah Assist:\", assists_of_player_with_most)"
      ],
      "metadata": {
        "colab": {
          "base_uri": "https://localhost:8080/"
        },
        "id": "hvCNltu7kCBe",
        "outputId": "959d4a1d-16b6-4c26-c699-d77f88713fc3"
      },
      "execution_count": null,
      "outputs": [
        {
          "output_type": "stream",
          "name": "stdout",
          "text": [
            "Pemain dengan jumlah assist dan gol paling banyak dan dari kesebelasan mana:\n",
            "Nama Pemain: Heung-Min Son\n",
            "Kesebelasan: Tottenham Hotspur\n",
            "Jumlah Gol: 180\n",
            "Jumlah Assist: 4\n"
          ]
        }
      ]
    },
    {
      "cell_type": "markdown",
      "source": [
        "# 8. 5 Kesebelasan yang menyumbangkan gol"
      ],
      "metadata": {
        "id": "5uvZ_QCOri78"
      }
    },
    {
      "cell_type": "code",
      "source": [
        "# 5 Kesebelasan yang menyumbangkan gol terbanyak\n",
        "# Mengelompokkan data berdasarkan kesebelasan dan menjumlahkan jumlah gol\n",
        "goals_by_team = df.groupby('TEAM')['G'].sum()\n",
        "\n",
        "# Mengambil 5 kesebelasan dengan jumlah gol terbanyak\n",
        "top_5_scoring_teams = goals_by_team.nlargest(5)\n",
        "\n",
        "# Menampilkan hasil\n",
        "print(\"5 Kesebelasan yang menyumbangkan gol terbanyak:\")\n",
        "print(top_5_scoring_teams)"
      ],
      "metadata": {
        "colab": {
          "base_uri": "https://localhost:8080/"
        },
        "id": "83MBkxAokG24",
        "outputId": "cf371d7c-5909-4632-9200-5f253dfdb95e"
      },
      "execution_count": null,
      "outputs": [
        {
          "output_type": "stream",
          "name": "stdout",
          "text": [
            "5 Kesebelasan yang menyumbangkan gol terbanyak:\n",
            "TEAM\n",
            "Arsenal           1980\n",
            "Crystal Palace    1980\n",
            "Everton           1980\n",
            "Fulham            1980\n",
            "Leeds United      1980\n",
            "Name: G, dtype: int64\n"
          ]
        }
      ]
    },
    {
      "cell_type": "markdown",
      "source": [
        "# 9. Urutkan pemain berdasarkan jumlah gol terbanyak tanpa mendapatkan kartu sama sekali"
      ],
      "metadata": {
        "id": "UXEz8G7DrmgO"
      }
    },
    {
      "cell_type": "code",
      "source": [
        "# Mengurutkan pemain berdasarkan jumlah gol terbanyak tanpa mendapatkan kartu kuning atau merah\n",
        "# Filtering pemain yang tidak mendapatkan kartu kuning atau merah\n",
        "players_without_cards = df[(df['SHOTS'] == 0) & (df['SOG'] == 0)]\n",
        "\n",
        "# Mengurutkan pemain berdasarkan jumlah gol terbanyak\n",
        "sorted_players_without_cards = players_without_cards.sort_values('G', ascending=False)\n",
        "\n",
        "# Menampilkan hasil\n",
        "print(\"Urutan pemain berdasarkan jumlah gol terbanyak tanpa mendapatkan kartu kuning atau merah:\")\n",
        "print(sorted_players_without_cards[['PLAYER', 'G']])"
      ],
      "metadata": {
        "colab": {
          "base_uri": "https://localhost:8080/"
        },
        "id": "WlYURgYFkPpL",
        "outputId": "710c064c-157d-4138-ddd7-24390d0414ad"
      },
      "execution_count": null,
      "outputs": [
        {
          "output_type": "stream",
          "name": "stdout",
          "text": [
            "Urutan pemain berdasarkan jumlah gol terbanyak tanpa mendapatkan kartu kuning atau merah:\n",
            "                                  PLAYER    G\n",
            "46                        Michael Hector  180\n",
            "155                          Declan Rice  180\n",
            "181                        Sam Johnstone  180\n",
            "173                         Kyle Bartley  180\n",
            "171  Oluwasemilogo Adesewo Ibidapo Ajayi  180\n",
            "..                                   ...  ...\n",
            "154                      Darren Randolph    0\n",
            "87                             Max Meyer    0\n",
            "260         Diogo José Teixeira da Silva    0\n",
            "256                           John Ruddy    0\n",
            "91                             Sam Woods    0\n",
            "\n",
            "[232 rows x 2 columns]\n"
          ]
        }
      ]
    }
  ]
}